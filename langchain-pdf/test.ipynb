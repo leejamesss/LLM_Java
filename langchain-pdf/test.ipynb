{
 "cells": [
  {
   "cell_type": "code",
   "execution_count": 1,
   "metadata": {},
   "outputs": [
    {
     "name": "stdout",
     "output_type": "stream",
     "text": [
      "Collecting pinecone-client\n",
      "  Downloading pinecone_client-3.0.0-py3-none-any.whl (199 kB)\n",
      "                                              0.0/199.9 kB ? eta -:--:--\n",
      "                                              0.0/199.9 kB ? eta -:--:--\n",
      "     --                                       10.2/199.9 kB ? eta -:--:--\n",
      "     --                                       10.2/199.9 kB ? eta -:--:--\n",
      "     --                                       10.2/199.9 kB ? eta -:--:--\n",
      "     -----                                 30.7/199.9 kB 163.8 kB/s eta 0:00:02\n",
      "     -----                                 30.7/199.9 kB 163.8 kB/s eta 0:00:02\n",
      "     -------                               41.0/199.9 kB 130.7 kB/s eta 0:00:02\n",
      "     -----------                           61.4/199.9 kB 181.6 kB/s eta 0:00:01\n",
      "     ---------------                       81.9/199.9 kB 208.4 kB/s eta 0:00:01\n",
      "     -----------------                     92.2/199.9 kB 227.6 kB/s eta 0:00:01\n",
      "     ----------------------               122.9/199.9 kB 257.2 kB/s eta 0:00:01\n",
      "     -----------------------------        163.8/199.9 kB 307.2 kB/s eta 0:00:01\n",
      "     ------------------------------------ 199.9/199.9 kB 346.8 kB/s eta 0:00:00\n",
      "Requirement already satisfied: certifi>=2019.11.17 in c:\\users\\james\\anaconda3\\envs\\mytorch\\lib\\site-packages (from pinecone-client) (2023.5.7)\n",
      "Requirement already satisfied: tqdm>=4.64.1 in c:\\users\\james\\anaconda3\\envs\\mytorch\\lib\\site-packages (from pinecone-client) (4.65.0)\n",
      "Requirement already satisfied: typing-extensions>=3.7.4 in c:\\users\\james\\anaconda3\\envs\\mytorch\\lib\\site-packages (from pinecone-client) (4.5.0)\n",
      "Requirement already satisfied: urllib3>=1.26.0 in c:\\users\\james\\anaconda3\\envs\\mytorch\\lib\\site-packages (from pinecone-client) (1.26.15)\n",
      "Requirement already satisfied: colorama in c:\\users\\james\\anaconda3\\envs\\mytorch\\lib\\site-packages (from tqdm>=4.64.1->pinecone-client) (0.4.6)\n",
      "Installing collected packages: pinecone-client\n",
      "Successfully installed pinecone-client-3.0.0\n"
     ]
    },
    {
     "name": "stderr",
     "output_type": "stream",
     "text": [
      "WARNING: Ignoring invalid distribution -illow (c:\\users\\james\\anaconda3\\envs\\mytorch\\lib\\site-packages)\n",
      "WARNING: Ignoring invalid distribution -illow (c:\\users\\james\\anaconda3\\envs\\mytorch\\lib\\site-packages)\n"
     ]
    }
   ],
   "source": [
    "!pip install pinecone-client"
   ]
  },
  {
   "cell_type": "code",
   "execution_count": 4,
   "metadata": {},
   "outputs": [],
   "source": [
    "from pinecone import Pinecone\n",
    "\n",
    "pc = Pinecone(api_key=\"5d3240d0-c92f-4f77-8a0a-cd5c669a2a16\")\n",
    "index = pc.Index(\"gpt4-pdf-chatbot-langchain\")"
   ]
  },
  {
   "cell_type": "code",
   "execution_count": 6,
   "metadata": {},
   "outputs": [
    {
     "data": {
      "text/plain": [
       "{'upserted_count': 4}"
      ]
     },
     "execution_count": 6,
     "metadata": {},
     "output_type": "execute_result"
    }
   ],
   "source": [
    "index.upsert(\n",
    "    vectors=[\n",
    "        {\n",
    "            \"id\": \"vec1\", \n",
    "            \"values\": [0.1]*1536, \n",
    "            \"metadata\": {\"genre\": \"drama\"}\n",
    "        }, {\n",
    "            \"id\": \"vec2\", \n",
    "            \"values\": [0.2]*1536, \n",
    "            \"metadata\": {\"genre\": \"action\"}\n",
    "        }, {\n",
    "            \"id\": \"vec3\", \n",
    "            \"values\": [0.3]*1536, \n",
    "            \"metadata\": {\"genre\": \"drama\"}\n",
    "        }, {\n",
    "            \"id\": \"vec4\", \n",
    "            \"values\": [0.4]*1536, \n",
    "            \"metadata\": {\"genre\": \"action\"}\n",
    "        }\n",
    "    ],\n",
    "    namespace= \"ns1\"\n",
    ")"
   ]
  },
  {
   "cell_type": "code",
   "execution_count": null,
   "metadata": {},
   "outputs": [],
   "source": []
  }
 ],
 "metadata": {
  "kernelspec": {
   "display_name": "mytorch",
   "language": "python",
   "name": "python3"
  },
  "language_info": {
   "codemirror_mode": {
    "name": "ipython",
    "version": 3
   },
   "file_extension": ".py",
   "mimetype": "text/x-python",
   "name": "python",
   "nbconvert_exporter": "python",
   "pygments_lexer": "ipython3",
   "version": "3.10.11"
  }
 },
 "nbformat": 4,
 "nbformat_minor": 2
}

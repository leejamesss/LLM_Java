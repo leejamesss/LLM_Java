{
 "cells": [
  {
   "cell_type": "markdown",
   "metadata": {},
   "source": [
    "### 翻译"
   ]
  },
  {
   "cell_type": "code",
   "execution_count": 1,
   "metadata": {},
   "outputs": [
    {
     "name": "stdout",
     "output_type": "stream",
     "text": [
      "Original Text: I heard the echo, from the valleys and the heart.\n",
      "Translated Text: 我从山谷和心脏中听到了回声。\n"
     ]
    }
   ],
   "source": [
    "# 一、简单实现，文本翻译功能\n",
    "# 简单实现谷歌翻译功能，后续可以使用免费的google翻译API实现更好的翻译效果：https://cloud.google.com/translate/docs/apis?hl=zh-cn\n",
    "from googletrans import Translator\n",
    "\n",
    "# 定义翻译器\n",
    "translator = Translator()\n",
    "\n",
    "# 将此处定义为用户的输入语言类型和具体的语句\n",
    "src_user = \"en\"\n",
    "text_to_translate = \"I heard the echo, from the valleys and the heart.\"\n",
    "\n",
    "# 指定的目标翻译语言，\"fr\" for French，\"es\" for Spanish，\"de\" for German，\"ja\" for Japanese，\"zh-cn\" for Simplified Chinese，\"ru\" for Russian，\"ar\" for Arabic\n",
    "dest_server = \"zh-cn\"\n",
    "translated_text = translator.translate(text_to_translate, src=src_user,dest=dest_server)\n",
    "\n",
    "# Print the translation\n",
    "print(\"Original Text:\", text_to_translate)\n",
    "print(\"Translated Text:\", translated_text.text)\n",
    "\n"
   ]
  },
  {
   "cell_type": "code",
   "execution_count": 2,
   "metadata": {},
   "outputs": [
    {
     "name": "stdout",
     "output_type": "stream",
     "text": [
      "Original Text: 试谈江泽民民生思想\n",
      "Translated Text: Try to talk about Jiang Zemin's people's livelihood\n"
     ]
    }
   ],
   "source": [
    "\n",
    "from googletrans import Translator\n",
    "\n",
    "# 定义翻译器\n",
    "translator = Translator()\n",
    "\n",
    "# 将此处定义为用户的输入语言类型和具体的语句\n",
    "src_user = \"en\"\n",
    "text_to_translate = \"试谈江泽民民生思想\"\n",
    "\n",
    "# 指定的目标翻译语言，\"fr\" for French，\"es\" for Spanish，\"de\" for German，\"ja\" for Japanese，\"zh-cn\" for Simplified Chinese，\"ru\" for Russian，\"ar\" for Arabic\n",
    "dest_server = \"zh-cn\"\n",
    "translated_text = translator.translate(text_to_translate, src=dest_server,dest=src_user)\n",
    "\n",
    "# Print the translation\n",
    "print(\"Original Text:\", text_to_translate)\n",
    "print(\"Translated Text:\", translated_text.text)"
   ]
  },
  {
   "cell_type": "markdown",
   "metadata": {},
   "source": [
    "#### 文字转语音输出"
   ]
  },
  {
   "cell_type": "code",
   "execution_count": 4,
   "metadata": {},
   "outputs": [
    {
     "name": "stdout",
     "output_type": "stream",
     "text": [
      "pygame 2.5.2 (SDL 2.28.3, Python 3.10.11)\n",
      "Hello from the pygame community. https://www.pygame.org/contribute.html\n",
      "播放结束\n"
     ]
    }
   ],
   "source": [
    "from googletrans import Translator\n",
    "translator = Translator()\n",
    "src_user = \"en\"\n",
    "text_to_translate = \"I heard the echo, from the valleys and the heart.\"\n",
    "dest_server = \"zh-cn\"\n",
    "translated_text = translator.translate(text_to_translate, src=src_user,dest=dest_server)\n",
    "\n",
    "# 使用google的语音合成功能，将翻译后的语句转换为语音文件\n",
    "from gtts import gTTS\n",
    "tts = gTTS(text=translated_text.text, lang=dest_server)\n",
    "tts.save(\"translated_text.mp3\")\n",
    "# os.system(\"translated_text.mp3\")\n",
    "\n",
    "# 播放音频文件\n",
    "import pygame\n",
    "from mutagen.mp3 import MP3 \n",
    "# mixer初始化\n",
    "pygame.mixer.init()\n",
    "# 加载音乐\n",
    "pygame.mixer.music.load(\"translated_text.mp3\") \n",
    "song = MP3(\"translated_text.mp3\")\n",
    "length=song.info.length\n",
    "\n",
    "# 播放音频文件\n",
    "pygame.mixer.music.play()\n",
    "# 一段时间后停止运行\n",
    "import time\n",
    "time.sleep(length+1.5)\n",
    "print(\"播放结束\")\n",
    "pygame.mixer.music.stop()\n"
   ]
  },
  {
   "cell_type": "markdown",
   "metadata": {},
   "source": [
    "#### 读取txt文件和docx文件并翻译,将翻译内容写入文件"
   ]
  },
  {
   "cell_type": "code",
   "execution_count": null,
   "metadata": {},
   "outputs": [],
   "source": [
    "# 获取有道翻译API\n",
    "# 读取txt文件\n",
    "# with open('中文翻译实验.txt', 'r') as f:\n",
    "#     # data = f.read()\n",
    "# # \n",
    "# # 导入 translate 库\n",
    "# from translate import Translator\n",
    "\n",
    "# # 设置源语言和目标语言\n",
    "# translator = Translator(from_lang=\"chinese\", to_lang=\"english\")\n",
    "\n",
    "# # 读取要翻译的文件\n",
    "# with open(\"input.txt\", \"r\", encoding=\"utf-8\") as f:\n",
    "#     text = f.read()\n",
    "\n",
    "# # 进行翻译\n",
    "# translation = translator.translate(text)\n",
    "\n",
    "# # 写入翻译结果到一个新的文件\n",
    "# with open(\"output.txt\", \"w\", encoding=\"utf-8\") as f:\n",
    "#     f.write(translation)\n",
    "\n",
    "\n",
    "\n",
    "\n",
    "from docx import Document\n",
    "path = '中文翻译实验.docx'\n",
    "doc = Document(path)\n",
    "\n",
    "fw=open(\"text_translate.txt\",\"w\",encoding='utf-8')\n",
    "for paragraph in doc.paragraphs:\n",
    "    # 原始文本\n",
    "    text_to_translate=str(paragraph.text)\n",
    "\n",
    "    # 定义翻译器\n",
    "    from googletrans import Translator    \n",
    "    translator = Translator()\n",
    "    src_user = \"zh-cn\"\n",
    "    dest_server = \"en\"\n",
    "    print(\"Original Text:\", text_to_translate)\n",
    "    translated_text = translator.translate(text_to_translate, src=src_user,dest=dest_server)\n",
    "    print(\"Translated Text:\", translated_text.text)\n",
    "\n",
    "    fw.write(translated_text.text+\"\\n\")\n",
    "fw.close()\n",
    "\n"
   ]
  },
  {
   "cell_type": "code",
   "execution_count": null,
   "metadata": {},
   "outputs": [],
   "source": []
  },
  {
   "cell_type": "markdown",
   "metadata": {},
   "source": []
  }
 ],
 "metadata": {
  "kernelspec": {
   "display_name": "Python 3",
   "language": "python",
   "name": "python3"
  },
  "language_info": {
   "codemirror_mode": {
    "name": "ipython",
    "version": 3
   },
   "file_extension": ".py",
   "mimetype": "text/x-python",
   "name": "python",
   "nbconvert_exporter": "python",
   "pygments_lexer": "ipython3",
   "version": "3.10.11"
  }
 },
 "nbformat": 4,
 "nbformat_minor": 2
}
